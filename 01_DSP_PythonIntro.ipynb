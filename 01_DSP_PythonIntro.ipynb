{
  "cells": [
    {
      "cell_type": "markdown",
      "metadata": {
        "id": "nPg3jw4ypwfa"
      },
      "source": [
        "# Lab 1: Getting started with Python, Sound, and Visualisation\n",
        "\n",
        "This notebook covers generating and visualising sound signals in Python.  It also acts as an introduction to the [Python](http://www.python.org/) programming language and its accompanying libraries.\n",
        "\n",
        "## 0. Getting ready for Python & Jupyter\n",
        "\n",
        "1. Here are the <b>most important tips</b>:\n",
        "  - To execute code in a cell, press Shift+Enter</li>\n",
        "  - You'll need to re-execute a cell using Shift+Enter if you later edit the cell</li>\n",
        "  - You don't need to end your lines of code with semi-colons;</li>\n",
        "  - To get help on a function name, just type the name followed by a ?, like sin?</li>\n",
        "  - You can auto-complete function names by typing the beginning of the function and hitting tab</li>\n",
        "  - The [Python tutorial](https://docs.python.org/3.9/tutorial/index.html) is a good reference for common syntax (e.g., for-loops, if statements)."
      ]
    },
    {
      "cell_type": "markdown",
      "metadata": {
        "id": "e4r5-o50pwfc"
      },
      "source": [
        "\n",
        "## Part 1. Introduction to Python and Jupyter\n",
        "\n",
        "In this section, we’ll verify that the Python environment is correctly set up.  Firstly, to check that the system will execute Python code at all, make sure that the next cell is selected (it should have a green rectangle around it; if it doesn’t, use the cursor keys) and then run it (by holding the ‘Shift’ key and hitting ‘Return’ – `S-RET` for short – or by selecting ‘Run and Select Below’ from the ‘Cell’ menu)."
      ]
    },
    {
      "cell_type": "code",
      "execution_count": null,
      "metadata": {
        "colab": {
          "base_uri": "https://localhost:8080/"
        },
        "id": "ScJ1c-hepwfc",
        "outputId": "c032a73d-1c87-4236-bc0c-775a55281146"
      },
      "outputs": [
        {
          "output_type": "stream",
          "name": "stdout",
          "text": [
            "Hello, World\n"
          ]
        }
      ],
      "source": [
        "# Python’s \"Hello World\":\n",
        "print(\"Hello, World\")"
      ]
    },
    {
      "cell_type": "markdown",
      "metadata": {
        "id": "mY2aqVkBpwfd"
      },
      "source": [
        "Doing that should have made Python display the string `Hello, World`.  If it did not, please contact a member of lab staff as soon as possible.  On the other hand, we hope that it did successfully execute.  Once it does, look at the following cell, and try to predict what will happen when it is run.  Execute it, and see whether your predictions were right, and if you understand any cases where the output is different from your prediction."
      ]
    },
    {
      "cell_type": "code",
      "execution_count": null,
      "metadata": {
        "colab": {
          "base_uri": "https://localhost:8080/"
        },
        "id": "boUbOOv5pwfd",
        "outputId": "ff05a7b5-1c8e-4bb4-85d7-89ef3d0258af"
      },
      "outputs": [
        {
          "output_type": "stream",
          "name": "stdout",
          "text": [
            "1 + 1 = 2\n",
            "2 - 3 = -1\n",
            "4 * 5 = 20\n",
            "6 / 7 = 0.8571428571428571\n",
            "\n",
            "3 + 3 * 3 = 12\n",
            "(3 + 3) * 3 = 18\n",
            "2 ** 3 = 8\n"
          ]
        }
      ],
      "source": [
        "# Python’s basic arithmetic:\n",
        "print (\"1 + 1 =\", 1 + 1)\n",
        "print (\"2 - 3 =\", 2 - 3)\n",
        "print (\"4 * 5 =\", 4 * 5)\n",
        "print (\"6 / 7 =\", 6 / 7)\n",
        "print ()\n",
        "print (\"3 + 3 * 3 =\", 3 + 3 * 3)\n",
        "print (\"(3 + 3) * 3 =\", (3 + 3) * 3)\n",
        "print (\"2 ** 3 =\", 2 ** 3)"
      ]
    },
    {
      "cell_type": "markdown",
      "metadata": {
        "id": "htBeKAr3pwfe"
      },
      "source": [
        "The Python language, as many others, supports giving names to values.  Unlike most of the languages that you have been exposed to so far, Python variables are untyped; they do not need a type declaration (no need for `int x` or similar).  What do you think the following cell prints?"
      ]
    },
    {
      "cell_type": "code",
      "execution_count": null,
      "metadata": {
        "colab": {
          "base_uri": "https://localhost:8080/"
        },
        "id": "WwmIOSW0pwfe",
        "outputId": "2b25b55c-2948-4e82-cc90-db34b49451f6"
      },
      "outputs": [
        {
          "output_type": "stream",
          "name": "stdout",
          "text": [
            "x + 1 = 7\n"
          ]
        }
      ],
      "source": [
        "# Python’s handling of variables:\n",
        "x = 3\n",
        "x = x * 2\n",
        "print (\"x + 1 =\", x + 1)"
      ]
    },
    {
      "cell_type": "markdown",
      "metadata": {
        "id": "wPpCMYqkpwfe"
      },
      "source": [
        "Take a look at the [Python tutorial](https://docs.python.org/3.9/tutorial/index.html) to see the syntax for if statements, for statements, and the range function. Then complete the following exercises:\n",
        "\n",
        "Edit the cell below so that it prints \"Five\" if x is 5, \"Three\" if x is 3, and \"Neither\" otherwise.\n",
        "Remember that indentation counts when creating if statements."
      ]
    },
    {
      "cell_type": "code",
      "execution_count": null,
      "metadata": {
        "id": "e7nfXQuRpwfe",
        "colab": {
          "base_uri": "https://localhost:8080/"
        },
        "outputId": "fb8d52c7-35a0-48a9-8f3a-c5827c190a46"
      },
      "outputs": [
        {
          "output_type": "stream",
          "name": "stdout",
          "text": [
            "five\n",
            "three\n",
            "incorrect\n"
          ]
        }
      ],
      "source": [
        "x = 5\n",
        "if x == 5:\n",
        "  print('five')\n",
        "x = x - 2\n",
        "if x == 3:\n",
        "  print('three')\n",
        "else:\n",
        "  print('neither')\n",
        "\n",
        "# y = 2\n",
        "y = 3\n",
        "if y == 2:\n",
        "  print('correct')\n",
        "elif y != 2:\n",
        "  print('incorrect')"
      ]
    },
    {
      "cell_type": "markdown",
      "metadata": {
        "id": "Q9eWzPCgpwff"
      },
      "source": [
        "In the cell below, write a for-loop that prints the numbers from 1 to 20 in ascending order:"
      ]
    },
    {
      "cell_type": "code",
      "execution_count": null,
      "metadata": {
        "id": "mrxexVWFpwff",
        "colab": {
          "base_uri": "https://localhost:8080/"
        },
        "outputId": "5da3a905-4d7c-4fff-8002-e771e28c0fac"
      },
      "outputs": [
        {
          "output_type": "stream",
          "name": "stdout",
          "text": [
            "1\n",
            "2\n",
            "3\n",
            "4\n",
            "5\n",
            "6\n",
            "7\n",
            "8\n",
            "9\n",
            "10\n",
            "11\n",
            "12\n",
            "13\n",
            "14\n",
            "15\n",
            "16\n",
            "17\n",
            "18\n",
            "19\n",
            "20\n"
          ]
        }
      ],
      "source": [
        "for i in range(1, 21):\n",
        "  print(i)"
      ]
    }
  ],
  "metadata": {
    "kernelspec": {
      "display_name": "Python 3",
      "language": "python",
      "name": "python3"
    },
    "language_info": {
      "codemirror_mode": {
        "name": "ipython",
        "version": 3
      },
      "file_extension": ".py",
      "mimetype": "text/x-python",
      "name": "python",
      "nbconvert_exporter": "python",
      "pygments_lexer": "ipython3",
      "version": "3.8.8"
    },
    "colab": {
      "provenance": []
    }
  },
  "nbformat": 4,
  "nbformat_minor": 0
}